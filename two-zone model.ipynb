{
 "cells": [
  {
   "cell_type": "markdown",
   "id": "286d77a6",
   "metadata": {},
   "source": [
    "Define const."
   ]
  },
  {
   "cell_type": "code",
   "execution_count": 1,
   "id": "6748058f",
   "metadata": {},
   "outputs": [],
   "source": [
    "m_e = 9.1093837e-28 #mass of electron\n",
    "c = 29979245800.0 #speed of light\n",
    "sigma_T = 6.652448e-25 #Thomson cross sectio\n",
    "ev_to_erg = 1.60217662e-12 #change unit from ev to erg"
   ]
  },
  {
   "cell_type": "markdown",
   "id": "c65d856a",
   "metadata": {},
   "source": [
    "Import packages"
   ]
  },
  {
   "cell_type": "code",
   "execution_count": 2,
   "id": "a3aedcd0",
   "metadata": {},
   "outputs": [],
   "source": [
    "import numpy as np\n",
    "from scipy import integrate\n",
    "import matplotlib.pyplot as plt "
   ]
  },
  {
   "cell_type": "markdown",
   "id": "32300274",
   "metadata": {},
   "source": [
    "Functions to realize equation in our paper"
   ]
  },
  {
   "cell_type": "code",
   "execution_count": 3,
   "id": "60de7f70",
   "metadata": {},
   "outputs": [],
   "source": [
    "#Caculate angle of collision.In the approximate case, it degenerates into the equation (4) as presented in our paper.\n",
    "def theta(R,theta_M,theta_G,phi):\n",
    "    dx_M = R_M*np.sin(theta_M)\n",
    "    dx_G = R_G*np.sin(theta_G)\n",
    "    dx = np.sqrt(dx_M**2+dx_G**2-2.*dx_M*dx_G*np.cos(phi))\n",
    "    dy = R_G*np.cos(theta_G)-R_M*np.cos(theta_M)+R-R_G\n",
    "    thetam = np.arctan(dx/dy)\n",
    "    if thetam > 0.01:\n",
    "        return 0.01\n",
    "    else:\n",
    "        return thetam\n",
    "\n",
    "#Caculate max of radius(eqution (5))\n",
    "def R_max(theta_G):\n",
    "    if(1-2*c*T_90/((1+z)*theta_G**2*R_G)>0):\n",
    "        return R_G/(1-2*c*T_90/((1+z)*theta_G**2*R_G))\n",
    "    else:\n",
    "        return(R_G*1e3)\n",
    "\n",
    "#Define function that get L_M, E_P, alpha, beta from light curve\n",
    "def L_M(theta_G,R):\n",
    "    t_R = 226+(1+z)*T_G - (1+z)*theta_G**2*R_G/2/c*(R_G/R)\n",
    "    if t_R < t[0] or t_R > t[-1]:\n",
    "        return 0,1,3,1\n",
    "    else:\n",
    "        for index in range(len(t)):\n",
    "            if t_R < t[index]:\n",
    "                break\n",
    "    return L[index],alphaM[index],betaM[index],EP[index]\n",
    "\n",
    "#Define number density of band function(equation(6),(7)and(8))\n",
    "def n_Mev(theta_G,R,E_Ma):\n",
    "    L_MR,alpha_M,beta_M,E_P = L_M(theta_G,R)\n",
    "    n_Mev0 = L_MR/((1+z)*E_P**2*(1/(2-alpha_M)+1/(beta_M-2)*(1-E_P**(beta_M-2)*E_maxo**(2-beta_M)))*4.*np.pi*R**2*c)#(equation(7)and(8))\n",
    "    result = np.array([])\n",
    "    for E_M in E_Ma:\n",
    "        if E_M<E_P:\n",
    "            result = np.append(result,n_Mev0*(E_M/E_P)**(-alpha_M))\n",
    "        elif E_M<E_max:\n",
    "            result = np.append(result,n_Mev0*(E_M/E_P)**(-beta_M))\n",
    "        else:\n",
    "            result = np.append(result,0)\n",
    "    return result\n",
    "\n",
    "#Caculate E_{M,min}(equation(9))\n",
    "def E_Mmin(theta):\n",
    "    return 2*(m_e*c**2)**2/(1+z)**2/(1-np.cos(theta))/E_G\n",
    "\n",
    "# Caculate beta hat(equation(11))\n",
    "def beta(E_M,theta):\n",
    "    return np.sqrt(np.abs(1-2.0*(m_e*c**2/(1+z))**2/E_M/E_G/(1-np.cos(theta))))\n",
    "\n",
    "# caculate cross-section(equation(10))\n",
    "def sigma(beta):\n",
    "    return 3./16.*sigma_T*(1.-beta**2)*((3.-beta**4)*np.log((1.+beta)/(1.-beta))-2.*beta*(2.-beta**2))"
   ]
  },
  {
   "cell_type": "markdown",
   "id": "1de1a710",
   "metadata": {},
   "source": [
    "Integration functions(equation(12)and(13))"
   ]
  },
  {
   "cell_type": "code",
   "execution_count": 4,
   "id": "588be61a",
   "metadata": {},
   "outputs": [],
   "source": [
    "#Caculate  optical depth as function of energy and angle of TeV photons \\tau(\\theta_T,E_T) (equation(12))\n",
    "#integrand\n",
    "def y0(theta_G,E_M,phi,theta_M,R):\n",
    "    theta0 = theta(R,theta_M,theta_G,phi)\n",
    "    beta0 = beta(E_M,theta0)\n",
    "    sigma0 = sigma(beta0)\n",
    "    n_Mev0 = n_Mev(theta_G,R,E_M)\n",
    "    return n_Mev0*sigma0*(1-np.cos(theta0))\n",
    "\n",
    "#Integration over energy\n",
    "def iyx0(theta_G,x1,x2,x3):\n",
    "    theta0 = theta(x3,x2,theta_G,0)\n",
    "    E_Mmin0 = E_Mmin(theta0)\n",
    "    if E_Mmin0 > E_max:\n",
    "        return 0\n",
    "    x0 = np.logspace(np.log(E_Mmin0)/np.log(10),np.log(E_max)/np.log(10),101)\n",
    "    y = y0(theta_G,x0,x1,x2,x3)\n",
    "    return integrate.simpson(y,x0)\n",
    "\n",
    "def iyx2(theta_G,x3):\n",
    "    x2 = np.linspace(0,0.01,10)\n",
    "    iyx2 = np.array([])\n",
    "    for x in x2:\n",
    "        iyx2=np.append(iyx2,iyx0(theta_G,0,x2,x3))\n",
    "    return integrate.simpson(iyx2,x2)\n",
    "\n",
    "#Integration over radius\n",
    "def iyx3(theta_G,x3min,x3max):\n",
    "    x3 = np.logspace(np.log(x3min)/np.log(10),np.log(x3max)/np.log(10),51)\n",
    "    iyx3 = np.array([])\n",
    "    for x in x3:\n",
    "        iyx3=np.append(iyx3,iyx0(theta_G,0,0.01,x))\n",
    "    return integrate.simpson(iyx3,x3)\n",
    "\n",
    "#integration over angle to caculate  optical depth (equation (13))\n",
    "def yy(theta_Gmax):\n",
    "    theta_Ga = np.logspace(-4,np.log(theta_Gmax)/np.log(10),30)\n",
    "    iyym = np.array([])\n",
    "    iyyd = np.array([])\n",
    "    for theta_Gx in theta_Ga:\n",
    "        D = 1/(Gamma_G*(1-beta_Gb*np.cos(theta_Gx)))\n",
    "        tua = iyx3(theta_Gx,R_G,R_max(theta_Gx))\n",
    "        iyym = np.append(iyym,D**(3+beta_G)*np.exp(-tua)*theta_Gx)\n",
    "        iyyd = np.append(iyyd,D**(3+beta_G)*theta_Gx)\n",
    "    return integrate.simpson(iyym,theta_Ga)/integrate.simpson(iyyd,theta_Ga)"
   ]
  },
  {
   "cell_type": "markdown",
   "id": "b4664f0b",
   "metadata": {},
   "source": [
    "Import data"
   ]
  },
  {
   "cell_type": "code",
   "execution_count": 5,
   "id": "3512bb03",
   "metadata": {},
   "outputs": [
    {
     "name": "stdout",
     "output_type": "stream",
     "text": [
      "[208.64  216.832 227.    228.    229.    230.    231.    232.    233.\n",
      " 234.    241.408 249.6  ] [0.   1.33 0.78 0.75 0.76 0.76 0.76 0.72 0.63 0.77 0.86 1.25] [0.   2.4  2.14 2.1  2.16 2.37 2.08 2.28 2.29 2.5  2.18 2.75] [0.00000000e+00 1.57173526e-06 4.87542345e-06 2.03408338e-06\n",
      " 1.83729924e-06 2.00505611e-06 2.43767968e-06 1.75596507e-06\n",
      " 9.72157514e-07 1.34759476e-06 2.59071959e-06 1.71753334e-06] [0.00000000e+00 2.26843435e+51 8.06137827e+52 8.68629132e+53\n",
      " 7.56144784e+53 6.15539349e+53 1.07485044e+54 8.74878262e+53\n",
      " 7.93639566e+53 5.12428696e+53 1.35606131e+53 1.96847609e+52]\n"
     ]
    }
   ],
   "source": [
    "data = np.loadtxt('c.txt') #name of data file\n",
    "t = data[:,0] #time\n",
    "alphaM = data[:,1] #low energy photon index\n",
    "betaM = data[:,2] #high energy photon index\n",
    "EP = data[:,3]*1e3*ev_to_erg #peak energy\n",
    "L = data[:,4]*4*np.pi*(2.23e27)**2 #luminosity\n",
    "print(t,alphaM,betaM,EP,L)\n"
   ]
  },
  {
   "cell_type": "markdown",
   "id": "76a86d9a",
   "metadata": {},
   "source": [
    "Caculate light depth"
   ]
  },
  {
   "cell_type": "code",
   "execution_count": 6,
   "id": "0b688720",
   "metadata": {},
   "outputs": [],
   "source": [
    "z = 0.151 #Redshift\n",
    "E_G = 7e12*ev_to_erg #Energy of TeV photon\n",
    "E_maxo = 10e6*ev_to_erg #Maxmium energy of observed MeV photon\n",
    "E_max = 7e12*ev_to_erg #Maxmium energy of MeV photon\n",
    "beta_G = 2.3 #photon index of TeV photons\n",
    "T_90 =100 #T_90 (it does not matter because we hadly reach the R_max)\n",
    "eta = 1 #Radiative efficiency (=1 in our case)\n",
    "Gamma_G = 560 #Bulk Lorentz factor of TeV photons\n",
    "R_M = 0 #Emitting radius of MeV photons\n",
    "#Funtion to caculate light depth of every time\n",
    "def tau_G(t_G):\n",
    "    global R_G,beta_Gb,T_G\n",
    "    T_G = t_G/(1+z)\n",
    "    R_G = 2*Gamma_G*Gamma_G*c*T_G\n",
    "    beta_Gb = np.sqrt(1-1/Gamma_G**2)\n",
    "    tua_e = -np.log(yy(1/Gamma_G))\n",
    "    return tua_e"
   ]
  },
  {
   "cell_type": "markdown",
   "id": "cb47e8ab",
   "metadata": {},
   "source": [
    "Caculate light depth of every time"
   ]
  },
  {
   "cell_type": "code",
   "execution_count": 7,
   "id": "3a3b3528",
   "metadata": {},
   "outputs": [
    {
     "data": {
      "text/plain": [
       "[<matplotlib.lines.Line2D at 0x1a5732bba30>]"
      ]
     },
     "execution_count": 7,
     "metadata": {},
     "output_type": "execute_result"
    },
    {
     "data": {
      "image/png": "[encoded data removed]",
      "text/plain": [
       "<Figure size 432x288 with 1 Axes>"
      ]
     },
     "metadata": {
      "needs_background": "light"
     },
     "output_type": "display_data"
    }
   ],
   "source": [
    "ta = np.arange(5,10,1)#Time period\n",
    "taut = np.array([])#Optical depth\n",
    "for tb in ta:\n",
    "    taut = np.append(taut,tau_G(tb))\n",
    "np.savetxt('ttt.txt',np.vstack((ta,taut)))#savetxt\n",
    "plt.xlabel(r'$t_{\\rm T}$(s)', fontsize=20)\n",
    "plt.ylabel(r'$\\bar{\\tau}$', fontsize=20)\n",
    "plt.loglog(ta,taut)#plot figure"
   ]
  },
  {
   "cell_type": "markdown",
   "id": "49e992ec",
   "metadata": {},
   "source": [
    "Caculate minimal Lorentz factor"
   ]
  },
  {
   "cell_type": "code",
   "execution_count": 8,
   "id": "cd78585b",
   "metadata": {},
   "outputs": [],
   "source": [
    "z = 0.151 #redshift\n",
    "E_G = 7e12*ev_to_erg #Energy of TeV photon\n",
    "E_maxo = 10e6*ev_to_erg #Maxmium energy of observed MeV photon\n",
    "E_max = 7e12*ev_to_erg #Maxmium energy of MeV photon\n",
    "beta_G = 2.3 #photon index of TeV photons\n",
    "T_90 =100 #T_90 (it does not matter because we hadly reach the R_max)\n",
    "eta = 1 #Radiative efficiency (=1 in our case)\n",
    "R_M = 0 #Emitting radius of MeV photons\n",
    "#Function to caculate minimal Lorentz factor of every time\n",
    "def gamma_min(t_G):\n",
    "    global Gamma_G,R_G,beta_Gb,T_G\n",
    "    T_G = t_G/(1+z)\n",
    "    Gamma_gmin = 0.1\n",
    "    Gamma_gmax = 1000\n",
    "    for i in range(30):\n",
    "        Gamma_G =(Gamma_gmin+Gamma_gmax)/2.\n",
    "        R_G = 2*Gamma_G*Gamma_G*c*T_G*eta\n",
    "        beta_Gb = np.sqrt(1-1/Gamma_G**2)\n",
    "        tua_e = -np.log(yy(1/Gamma_G))\n",
    "        if np.abs(tua_e-1)<1e-3:\n",
    "            return Gamma_G\n",
    "            break\n",
    "        elif tua_e>1:\n",
    "            Gamma_gmin = Gamma_G\n",
    "        else:\n",
    "            Gamma_gmax = Gamma_G"
   ]
  },
  {
   "cell_type": "markdown",
   "id": "056d8a81",
   "metadata": {},
   "source": [
    "Caculate minimal Lorentz factor of every time"
   ]
  },
  {
   "cell_type": "code",
   "execution_count": 9,
   "id": "ede05872",
   "metadata": {},
   "outputs": [
    {
     "name": "stdout",
     "output_type": "stream",
     "text": [
      "4\n",
      "5\n",
      "6\n",
      "7\n",
      "8\n",
      "9\n"
     ]
    },
    {
     "data": {
      "text/plain": [
       "Text(0, 0.5, '$\\\\Gamma_{\\\\rm T,min}$')"
      ]
     },
     "execution_count": 9,
     "metadata": {},
     "output_type": "execute_result"
    },
    {
     "data": {
      "image/png": "[encoded data removed]",
      "text/plain": [
       "<Figure size 432x288 with 1 Axes>"
      ]
     },
     "metadata": {
      "needs_background": "light"
     },
     "output_type": "display_data"
    }
   ],
   "source": [
    "ta = np.arange(4,10,1) #Time period\n",
    "gm = np.array([])#Minimal Lorentz factor\n",
    "for tb in ta:\n",
    "    print(tb)\n",
    "    gm = np.append(gm,gamma_min(tb))\n",
    "plt.plot(ta,gm)#plot figure\n",
    "plt.xlabel(r'$t_{\\rm T}$(s)', fontsize=20)\n",
    "plt.ylabel(r'$\\Gamma_{\\rm T,min}$', fontsize=20)"
   ]
  }
 ],
 "metadata": {
  "kernelspec": {
   "display_name": "Python 3",
   "language": "python",
   "name": "python3"
  },
  "language_info": {
   "codemirror_mode": {
    "name": "ipython",
    "version": 3
   },
   "file_extension": ".py",
   "mimetype": "text/x-python",
   "name": "python",
   "nbconvert_exporter": "python",
   "pygments_lexer": "ipython3",
   "version": "3.8.8"
  }
 },
 "nbformat": 4,
 "nbformat_minor": 5
}
